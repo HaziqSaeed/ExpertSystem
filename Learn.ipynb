{
  "nbformat": 4,
  "nbformat_minor": 0,
  "metadata": {
    "colab": {
      "provenance": [],
      "authorship_tag": "ABX9TyPtdQ1OH2yOKvJDFshHj3mA",
      "include_colab_link": true
    },
    "kernelspec": {
      "name": "python3",
      "display_name": "Python 3"
    },
    "language_info": {
      "name": "python"
    }
  },
  "cells": [
    {
      "cell_type": "markdown",
      "metadata": {
        "id": "view-in-github",
        "colab_type": "text"
      },
      "source": [
        "<a href=\"https://colab.research.google.com/github/HaziqSaeed/ExpertSystem/blob/master/Learn.ipynb\" target=\"_parent\"><img src=\"https://colab.research.google.com/assets/colab-badge.svg\" alt=\"Open In Colab\"/></a>"
      ]
    },
    {
      "cell_type": "code",
      "execution_count": null,
      "metadata": {
        "colab": {
          "base_uri": "https://localhost:8080/"
        },
        "id": "nKR_X8m0Q1qp",
        "outputId": "04236850-ce2e-47f5-f891-182ab34915ba"
      },
      "outputs": [
        {
          "output_type": "stream",
          "name": "stdout",
          "text": [
            "Files already downloaded and verified\n",
            "Filtered dataset size: 10000\n",
            "Batch labels: tensor([3, 5, 3, 5])\n"
          ]
        }
      ],
      "source": [
        "import torch\n",
        "import torchvision\n",
        "import torchvision.transforms as transforms\n",
        "from torch.utils.data import DataLoader, Subset\n",
        "\n",
        "# Define a transformation\n",
        "transform = transforms.Compose([\n",
        "    transforms.ToTensor(),\n",
        "    transforms.Normalize((0.5, 0.5, 0.5), (0.5, 0.5, 0.5))\n",
        "])\n",
        "\n",
        "# Load the entire CIFAR-10 training dataset\n",
        "trainset = torchvision.datasets.CIFAR10(root='./data', train=True,\n",
        "                                        download=True, transform=transform)\n",
        "\n",
        "# Class indices for 'cat' and 'dog'\n",
        "class_indices = [3, 5]  # Cat: 3, Dog: 5\n",
        "\n",
        "# Filter out only the images with 'cat' and 'dog' labels\n",
        "filtered_indices = [i for i, label in enumerate(trainset.targets) if label in class_indices]\n",
        "\n",
        "# Subset the dataset to include only cat and dog images\n",
        "filtered_trainset = Subset(trainset, filtered_indices)\n",
        "\n",
        "# Create a DataLoader for the filtered dataset\n",
        "trainloader = DataLoader(filtered_trainset, batch_size=4, shuffle=True, num_workers=2)\n",
        "\n",
        "# Check the filtered dataset size\n",
        "print(f\"Filtered dataset size: {len(filtered_trainset)}\")\n",
        "\n",
        "# Example: Iterate through the DataLoader and print out a batch of images\n",
        "data_iter = iter(trainloader)\n",
        "images, labels = next(data_iter) # Use next(data_iter) instead of data_iter.next()\n",
        "\n",
        "# Display the labels to confirm filtering (should only be 3 or 5)\n",
        "print(\"Batch labels:\", labels)"
      ]
    },
    {
      "cell_type": "code",
      "source": [
        "import torch.nn as nn\n",
        "import torch.nn.functional as F\n",
        "\n",
        "class SimpleCNN(nn.Module):\n",
        "    def __init__(self):\n",
        "        super(SimpleCNN, self).__init__()\n",
        "        self.conv1 = nn.Conv2d(3, 16, 3, padding=1)  # 3 input channels (RGB), 16 output channels, 3x3 convolution\n",
        "        self.conv2 = nn.Conv2d(16, 32, 3, padding=1)\n",
        "        self.pool = nn.MaxPool2d(2, 2)  # 2x2 max pooling\n",
        "        self.fc1 = nn.Linear(32 * 8 * 8, 128)  # Fully connected layer\n",
        "        self.fc2 = nn.Linear(128, 2)  # Output layer with 2 classes (cat and dog)\n",
        "\n",
        "    def forward(self, x):\n",
        "        x = self.pool(F.relu(self.conv1(x)))\n",
        "        x = self.pool(F.relu(self.conv2(x)))\n",
        "        x = x.view(-1, 32 * 8 * 8)  # Flatten the tensor\n",
        "        x = F.relu(self.fc1(x))\n",
        "        x = self.fc2(x)\n",
        "        return x\n",
        "\n",
        "# Initialize the network\n",
        "net = SimpleCNN()\n"
      ],
      "metadata": {
        "id": "V5Df_QsK2-MX"
      },
      "execution_count": null,
      "outputs": []
    },
    {
      "cell_type": "code",
      "source": [
        "import torch.optim as optim\n",
        "\n",
        "criterion = nn.CrossEntropyLoss()  # Loss function\n",
        "optimizer = optim.Adam(net.parameters(), lr=0.001)  # Optimizer\n"
      ],
      "metadata": {
        "id": "vJ2YwqYTlk-m"
      },
      "execution_count": null,
      "outputs": []
    },
    {
      "cell_type": "code",
      "source": [
        "# Training loop\n",
        "for epoch in range(5):  # Number of epochs\n",
        "\n",
        "    running_loss = 0.0\n",
        "    for i, data in enumerate(trainloader, 0):\n",
        "        # Get the inputs; data is a list of [inputs, labels]\n",
        "        inputs, labels = data\n",
        "\n",
        "        # Convert labels to binary (0 for cat, 1 for dog)\n",
        "        labels = torch.tensor([0 if label == 3 else 1 for label in labels])\n",
        "\n",
        "        # Zero the parameter gradients\n",
        "        optimizer.zero_grad()\n",
        "\n",
        "        # Forward pass\n",
        "        outputs = net(inputs)\n",
        "        loss = criterion(outputs, labels)\n",
        "\n",
        "        # Backward pass and optimize\n",
        "        loss.backward()\n",
        "        optimizer.step()\n",
        "\n",
        "        # Print statistics\n",
        "        running_loss += loss.item()\n",
        "        if i % 100 == 99:  # Print every 100 mini-batches\n",
        "            print(f'[Epoch {epoch + 1}, Batch {i + 1}] loss: {running_loss / 100:.3f}')\n",
        "            running_loss = 0.0\n",
        "\n",
        "print('Finished Training')\n"
      ],
      "metadata": {
        "colab": {
          "base_uri": "https://localhost:8080/"
        },
        "id": "cSNlVIrqln86",
        "outputId": "249f2c5b-2289-4c86-ced7-74ebc884c3fd"
      },
      "execution_count": null,
      "outputs": [
        {
          "output_type": "stream",
          "name": "stdout",
          "text": [
            "[Epoch 1, Batch 100] loss: 0.690\n",
            "[Epoch 1, Batch 200] loss: 0.671\n",
            "[Epoch 1, Batch 300] loss: 0.680\n",
            "[Epoch 1, Batch 400] loss: 0.657\n",
            "[Epoch 1, Batch 500] loss: 0.671\n",
            "[Epoch 1, Batch 600] loss: 0.652\n",
            "[Epoch 1, Batch 700] loss: 0.651\n",
            "[Epoch 1, Batch 800] loss: 0.653\n",
            "[Epoch 1, Batch 900] loss: 0.649\n",
            "[Epoch 1, Batch 1000] loss: 0.637\n",
            "[Epoch 1, Batch 1100] loss: 0.632\n",
            "[Epoch 1, Batch 1200] loss: 0.613\n",
            "[Epoch 1, Batch 1300] loss: 0.636\n",
            "[Epoch 1, Batch 1400] loss: 0.618\n",
            "[Epoch 1, Batch 1500] loss: 0.609\n",
            "[Epoch 1, Batch 1600] loss: 0.635\n",
            "[Epoch 1, Batch 1700] loss: 0.590\n",
            "[Epoch 1, Batch 1800] loss: 0.590\n",
            "[Epoch 1, Batch 1900] loss: 0.585\n",
            "[Epoch 1, Batch 2000] loss: 0.622\n",
            "[Epoch 1, Batch 2100] loss: 0.601\n",
            "[Epoch 1, Batch 2200] loss: 0.592\n",
            "[Epoch 1, Batch 2300] loss: 0.596\n",
            "[Epoch 1, Batch 2400] loss: 0.596\n",
            "[Epoch 1, Batch 2500] loss: 0.592\n",
            "[Epoch 2, Batch 100] loss: 0.589\n",
            "[Epoch 2, Batch 200] loss: 0.579\n",
            "[Epoch 2, Batch 300] loss: 0.568\n",
            "[Epoch 2, Batch 400] loss: 0.534\n",
            "[Epoch 2, Batch 500] loss: 0.574\n",
            "[Epoch 2, Batch 600] loss: 0.511\n",
            "[Epoch 2, Batch 700] loss: 0.524\n",
            "[Epoch 2, Batch 800] loss: 0.581\n",
            "[Epoch 2, Batch 900] loss: 0.507\n",
            "[Epoch 2, Batch 1000] loss: 0.569\n",
            "[Epoch 2, Batch 1100] loss: 0.553\n",
            "[Epoch 2, Batch 1200] loss: 0.544\n",
            "[Epoch 2, Batch 1300] loss: 0.552\n",
            "[Epoch 2, Batch 1400] loss: 0.576\n",
            "[Epoch 2, Batch 1500] loss: 0.563\n",
            "[Epoch 2, Batch 1600] loss: 0.571\n",
            "[Epoch 2, Batch 1700] loss: 0.560\n",
            "[Epoch 2, Batch 1800] loss: 0.526\n",
            "[Epoch 2, Batch 1900] loss: 0.556\n",
            "[Epoch 2, Batch 2000] loss: 0.528\n",
            "[Epoch 2, Batch 2100] loss: 0.577\n",
            "[Epoch 2, Batch 2200] loss: 0.516\n",
            "[Epoch 2, Batch 2300] loss: 0.553\n",
            "[Epoch 2, Batch 2400] loss: 0.489\n",
            "[Epoch 2, Batch 2500] loss: 0.481\n",
            "[Epoch 3, Batch 100] loss: 0.492\n",
            "[Epoch 3, Batch 200] loss: 0.467\n",
            "[Epoch 3, Batch 300] loss: 0.496\n",
            "[Epoch 3, Batch 400] loss: 0.503\n",
            "[Epoch 3, Batch 500] loss: 0.498\n",
            "[Epoch 3, Batch 600] loss: 0.477\n",
            "[Epoch 3, Batch 700] loss: 0.449\n",
            "[Epoch 3, Batch 800] loss: 0.542\n",
            "[Epoch 3, Batch 900] loss: 0.419\n",
            "[Epoch 3, Batch 1000] loss: 0.498\n",
            "[Epoch 3, Batch 1100] loss: 0.472\n",
            "[Epoch 3, Batch 1200] loss: 0.482\n",
            "[Epoch 3, Batch 1300] loss: 0.501\n",
            "[Epoch 3, Batch 1400] loss: 0.537\n",
            "[Epoch 3, Batch 1500] loss: 0.506\n",
            "[Epoch 3, Batch 1600] loss: 0.523\n",
            "[Epoch 3, Batch 1700] loss: 0.507\n",
            "[Epoch 3, Batch 1800] loss: 0.481\n",
            "[Epoch 3, Batch 1900] loss: 0.544\n",
            "[Epoch 3, Batch 2000] loss: 0.516\n",
            "[Epoch 3, Batch 2100] loss: 0.509\n",
            "[Epoch 3, Batch 2200] loss: 0.513\n",
            "[Epoch 3, Batch 2300] loss: 0.488\n",
            "[Epoch 3, Batch 2400] loss: 0.500\n",
            "[Epoch 3, Batch 2500] loss: 0.485\n",
            "[Epoch 4, Batch 100] loss: 0.470\n",
            "[Epoch 4, Batch 200] loss: 0.380\n",
            "[Epoch 4, Batch 300] loss: 0.483\n",
            "[Epoch 4, Batch 400] loss: 0.446\n",
            "[Epoch 4, Batch 500] loss: 0.438\n",
            "[Epoch 4, Batch 600] loss: 0.426\n",
            "[Epoch 4, Batch 700] loss: 0.474\n",
            "[Epoch 4, Batch 800] loss: 0.435\n",
            "[Epoch 4, Batch 900] loss: 0.452\n",
            "[Epoch 4, Batch 1000] loss: 0.435\n",
            "[Epoch 4, Batch 1100] loss: 0.429\n",
            "[Epoch 4, Batch 1200] loss: 0.431\n",
            "[Epoch 4, Batch 1300] loss: 0.461\n",
            "[Epoch 4, Batch 1400] loss: 0.469\n",
            "[Epoch 4, Batch 1500] loss: 0.468\n",
            "[Epoch 4, Batch 1600] loss: 0.465\n",
            "[Epoch 4, Batch 1700] loss: 0.466\n",
            "[Epoch 4, Batch 1800] loss: 0.446\n",
            "[Epoch 4, Batch 1900] loss: 0.419\n",
            "[Epoch 4, Batch 2000] loss: 0.448\n",
            "[Epoch 4, Batch 2100] loss: 0.477\n",
            "[Epoch 4, Batch 2200] loss: 0.427\n",
            "[Epoch 4, Batch 2300] loss: 0.457\n",
            "[Epoch 4, Batch 2400] loss: 0.423\n",
            "[Epoch 4, Batch 2500] loss: 0.510\n",
            "[Epoch 5, Batch 100] loss: 0.389\n",
            "[Epoch 5, Batch 200] loss: 0.356\n",
            "[Epoch 5, Batch 300] loss: 0.338\n",
            "[Epoch 5, Batch 400] loss: 0.350\n",
            "[Epoch 5, Batch 500] loss: 0.422\n",
            "[Epoch 5, Batch 600] loss: 0.358\n",
            "[Epoch 5, Batch 700] loss: 0.371\n",
            "[Epoch 5, Batch 800] loss: 0.395\n",
            "[Epoch 5, Batch 900] loss: 0.378\n",
            "[Epoch 5, Batch 1000] loss: 0.385\n",
            "[Epoch 5, Batch 1100] loss: 0.428\n",
            "[Epoch 5, Batch 1200] loss: 0.368\n",
            "[Epoch 5, Batch 1300] loss: 0.371\n",
            "[Epoch 5, Batch 1400] loss: 0.406\n",
            "[Epoch 5, Batch 1500] loss: 0.373\n",
            "[Epoch 5, Batch 1600] loss: 0.389\n",
            "[Epoch 5, Batch 1700] loss: 0.444\n",
            "[Epoch 5, Batch 1800] loss: 0.375\n",
            "[Epoch 5, Batch 1900] loss: 0.365\n",
            "[Epoch 5, Batch 2000] loss: 0.428\n",
            "[Epoch 5, Batch 2100] loss: 0.359\n",
            "[Epoch 5, Batch 2200] loss: 0.338\n",
            "[Epoch 5, Batch 2300] loss: 0.407\n",
            "[Epoch 5, Batch 2400] loss: 0.427\n",
            "[Epoch 5, Batch 2500] loss: 0.392\n",
            "Finished Training\n"
          ]
        }
      ]
    },
    {
      "cell_type": "code",
      "source": [
        "# Load test dataset (filtered in a similar way to training dataset)\n",
        "testset = torchvision.datasets.CIFAR10(root='./data', train=False, download=True, transform=transform)\n",
        "filtered_test_indices = [i for i, label in enumerate(testset.targets) if label in class_indices]\n",
        "filtered_testset = Subset(testset, filtered_test_indices)\n",
        "testloader = DataLoader(filtered_testset, batch_size=4, shuffle=False, num_workers=2)\n",
        "\n",
        "# Test the network\n",
        "correct = 0\n",
        "total = 0\n",
        "with torch.no_grad():\n",
        "    for data in testloader:\n",
        "        images, labels = data\n",
        "        labels = torch.tensor([0 if label == 3 else 1 for label in labels])\n",
        "        outputs = net(images)\n",
        "        _, predicted = torch.max(outputs, 1)\n",
        "        total += labels.size(0)\n",
        "        correct += (predicted == labels).sum().item()\n",
        "\n",
        "print(f'Accuracy of the network on the cat and dog images: {100 * correct / total:.2f}%')\n"
      ],
      "metadata": {
        "id": "_YCXuRXgmYR-",
        "outputId": "76e1e910-d0cd-4253-98cf-a7b4fbd6d505",
        "colab": {
          "base_uri": "https://localhost:8080/"
        }
      },
      "execution_count": null,
      "outputs": [
        {
          "output_type": "stream",
          "name": "stdout",
          "text": [
            "Files already downloaded and verified\n",
            "Accuracy of the network on the cat and dog images: 74.15%\n"
          ]
        }
      ]
    }
  ]
}